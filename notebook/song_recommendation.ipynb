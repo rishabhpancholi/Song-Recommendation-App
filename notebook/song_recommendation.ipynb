{
 "cells": [
  {
   "cell_type": "code",
   "execution_count": 1,
   "id": "6d107aef-4e40-46de-8589-815ae304dd25",
   "metadata": {},
   "outputs": [],
   "source": [
    "import pandas as pd\n",
    "import numpy as np\n",
    "import matplotlib.pyplot as plt\n",
    "import seaborn as sns\n",
    "import nltk\n",
    "import re\n",
    "from nltk.tokenize import word_tokenize\n",
    "from nltk.corpus import stopwords\n",
    "from gensim.models import Word2Vec\n",
    "from sklearn.metrics.pairwise import cosine_similarity\n",
    "from sklearn.preprocessing import MinMaxScaler\n",
    "from sklearn.cluster import KMeans\n",
    "from sklearn.metrics import silhouette_score\n",
    "import requests\n",
    "import pickle\n",
    "\n",
    "# Display all columns in Pandas DataFrame\n",
    "pd.set_option('display.max_columns', None)"
   ]
  },
  {
   "cell_type": "code",
   "execution_count": 2,
   "id": "225d6948-3d11-4d3a-b874-ea22cac484cb",
   "metadata": {},
   "outputs": [],
   "source": [
    "# Load the dataset\n",
    "songs = pd.read_csv('songs.csv')\n",
    "\n",
    "# Copy artist name for consistency\n",
    "songs['artist_name'] = songs['track_artist']\n",
    "\n",
    "# Separate numerical and categorical columns\n",
    "numerical_columns = [col for col in songs.columns if songs[col].dtypes != 'O']\n",
    "categorical_columns = [col for col in songs.columns if songs[col].dtypes == 'O']"
   ]
  },
  {
   "cell_type": "code",
   "execution_count": 3,
   "id": "62dd7a65-c342-45b4-b0eb-75f44d1474d6",
   "metadata": {},
   "outputs": [],
   "source": [
    "# Convert lyrics to lowercase and process them\n",
    "songs['lyrics'] = songs['lyrics'].astype(str).str.lower()\n",
    "songs['lyrics'] = songs['lyrics'].apply(lambda x: x.replace('\\n', ' ').split(' '))\n",
    "\n",
    "# Process track artist and playlist genre\n",
    "songs['track_artist'] = songs['track_artist'].apply(lambda x: x.replace(' ', '').split(' '))\n",
    "songs['playlist_genre'] = songs['playlist_genre'].apply(lambda x: x.replace(' ', '').split(' '))\n",
    "\n",
    "# Create a combined 'tags' column for each song\n",
    "songs['tags'] = songs['lyrics'] + songs['track_artist'] + songs['playlist_genre']\n",
    "\n",
    "# Convert list of words into a single string\n",
    "songs['tags'] = songs['tags'].apply(lambda x: \" \".join(x))\n",
    "\n",
    "# Remove unnecessary characters\n",
    "songs['tags'] = songs['tags'].apply(lambda x: x.replace(r\"\\'\", \"'\"))"
   ]
  },
  {
   "cell_type": "code",
   "execution_count": 4,
   "id": "5e1ecaee-58e9-41c9-91c8-5ce955b6cc50",
   "metadata": {},
   "outputs": [
    {
     "name": "stderr",
     "output_type": "stream",
     "text": [
      "[nltk_data] Downloading package punkt to\n",
      "[nltk_data]     C:\\Users\\User\\AppData\\Roaming\\nltk_data...\n",
      "[nltk_data]   Package punkt is already up-to-date!\n",
      "[nltk_data] Downloading package stopwords to\n",
      "[nltk_data]     C:\\Users\\User\\AppData\\Roaming\\nltk_data...\n",
      "[nltk_data]   Unzipping corpora\\stopwords.zip.\n"
     ]
    }
   ],
   "source": [
    "# Download NLTK stopwords and tokenizer\n",
    "nltk.download('punkt')\n",
    "nltk.download('stopwords')\n",
    "\n",
    "# Define stop words\n",
    "stop_words = set(stopwords.words('english'))\n",
    "\n",
    "# Function to clean and tokenize tags\n",
    "def clean_tags(text):\n",
    "    text = re.sub(r'[^a-zA-Z\\s]', '', text)  # Remove special characters\n",
    "    words = word_tokenize(text)  # Tokenize words\n",
    "    filtered_words = [word for word in words if word not in stop_words]  # Remove stopwords\n",
    "    return ' '.join(filtered_words)\n",
    "\n",
    "# Apply cleaning function\n",
    "songs['tags'] = songs['tags'].apply(clean_tags)\n",
    "\n",
    "# Tokenize the tags column\n",
    "songs['tags_tokenized'] = songs['tags'].apply(lambda x: x.split())"
   ]
  },
  {
   "cell_type": "code",
   "execution_count": 5,
   "id": "26c57e13-742d-48bc-a3a6-befeabf90090",
   "metadata": {},
   "outputs": [],
   "source": [
    "# Train Word2Vec model on tokenized tags\n",
    "model = Word2Vec(songs['tags_tokenized'], vector_size=300, window=5, min_count=1, workers=4)\n",
    "\n",
    "# Function to get document vector from tokenized words\n",
    "def get_doc_vector(tags_tokenized, model):\n",
    "    vectors = [model.wv[word] for word in tags_tokenized if word in model.wv]\n",
    "    return np.mean(vectors, axis=0) if len(vectors) > 0 else np.zeros(300)\n",
    "\n",
    "# Apply function to compute document vectors\n",
    "songs['doc_vector'] = songs['tags_tokenized'].apply(lambda x: get_doc_vector(x, model))"
   ]
  },
  {
   "cell_type": "code",
   "execution_count": 6,
   "id": "cb27caf3-d188-4e31-b617-b72aec3d4546",
   "metadata": {},
   "outputs": [],
   "source": [
    "# Remove 'duration_ms' before scaling as it is not needed\n",
    "num_features = [col for col in songs.columns if songs[col].dtypes != 'O']\n",
    "num_features.remove('duration_ms')\n",
    "\n",
    "# Apply MinMaxScaler\n",
    "scaler = MinMaxScaler()\n",
    "songs[num_features] = scaler.fit_transform(songs[num_features])"
   ]
  },
  {
   "cell_type": "code",
   "execution_count": 7,
   "id": "0c4dbcf6-9272-4400-9db1-196cc7688962",
   "metadata": {},
   "outputs": [],
   "source": [
    "# Convert numerical features into a NumPy array\n",
    "numerical_vectors = songs[num_features].values\n",
    "\n",
    "# Function to merge Word2Vec document vector and scaled numerical features\n",
    "def combine_vectors(row, numerical_vector):\n",
    "    doc_vector = np.array(row['doc_vector'])  # Convert Word2Vec embedding to NumPy array\n",
    "    return np.concatenate([doc_vector, numerical_vector])  # Merge both vectors\n",
    "\n",
    "# Apply combination of vectors\n",
    "songs['combined_vector'] = [\n",
    "    combine_vectors(row, numerical_vectors[i]) for i, row in songs.iterrows()\n",
    "]\n",
    "\n",
    "# Create similarity matrix using the combined vector\n",
    "combined_vector_matrix = np.vstack(songs['combined_vector'].values)\n",
    "similarity_matrix = cosine_similarity(combined_vector_matrix, combined_vector_matrix)"
   ]
  },
  {
   "cell_type": "code",
   "execution_count": 8,
   "id": "96b8eb91-a9c1-4d68-91b9-16f3f59e50fe",
   "metadata": {},
   "outputs": [],
   "source": [
    "# Save Word2Vec model\n",
    "model.save(\"word2vec_model.bin\")\n",
    "\n",
    "# Save similarity matrix\n",
    "with open(\"similarity_matrix.pkl\", \"wb\") as f:\n",
    "    pickle.dump(similarity_matrix, f)"
   ]
  },
  {
   "cell_type": "code",
   "execution_count": 9,
   "id": "404bd146-0f2e-49a9-95f0-d3d710194a43",
   "metadata": {},
   "outputs": [],
   "source": [
    "def get_recommendation(song_name, similarity_matrix, songs):\n",
    "    try:\n",
    "        # Find exact match\n",
    "        matches = songs[songs['track_name'].str.lower().str.strip() == song_name.lower().strip()]\n",
    "        song_index = matches.index[0]  # Pick the first matching song index\n",
    "    \n",
    "    except Exception as e:\n",
    "        return f\"Error: {e}\", []\n",
    "\n",
    "    # Compute similarity scores\n",
    "    sim_scores = list(enumerate(similarity_matrix[song_index]))\n",
    "    sim_scores = sorted(sim_scores, key=lambda x: x[1], reverse=True)\n",
    "\n",
    "    # Get top 6 similar songs (excluding itself)\n",
    "    top_similar_songs = sim_scores[1:7]\n",
    "\n",
    "    # Extract recommended song names\n",
    "    recommended_songs = [songs.iloc[i[0]]['track_name'] for i in top_similar_songs]\n",
    "\n",
    "    return recommended_songs"
   ]
  },
  {
   "cell_type": "code",
   "execution_count": 10,
   "id": "5de54e5b-7cac-4ef0-8361-4713f4d6edb9",
   "metadata": {},
   "outputs": [
    {
     "data": {
      "image/png": "[encoded data removed]",
      "text/plain": [
       "<Figure size 640x480 with 1 Axes>"
      ]
     },
     "metadata": {},
     "output_type": "display_data"
    }
   ],
   "source": [
    "# Determine optimal clusters using Elbow Method\n",
    "wcss = []\n",
    "for k in range(1, 11):\n",
    "    kmeans = KMeans(n_clusters=k, random_state=42, n_init=10)\n",
    "    kmeans.fit(songs[num_features])\n",
    "    wcss.append(kmeans.inertia_)\n",
    "\n",
    "# Plot the Elbow Method\n",
    "plt.plot(range(1, 11), wcss)\n",
    "plt.xlabel(\"Number of Clusters (k)\")\n",
    "plt.ylabel(\"WCSS\")\n",
    "plt.title(\"Elbow Method for Optimal k\")\n",
    "plt.show()\n",
    "\n",
    "# Apply KMeans clustering with k=5 (as an example)\n",
    "kmeans = KMeans(n_clusters=5, random_state=42, n_init=10)\n",
    "songs['cluster'] = kmeans.fit_predict(songs[num_features])\n",
    "\n",
    "# Save cluster data\n",
    "songs.to_csv('songs_cleaned.csv', index=False)"
   ]
  },
  {
   "cell_type": "code",
   "execution_count": 11,
   "id": "37a18294-04bd-4960-b9cf-cfa114294272",
   "metadata": {},
   "outputs": [],
   "source": [
    "def get_access_token(client_id, client_secret):\n",
    "    url = \"https://accounts.spotify.com/api/token\"\n",
    "    headers = {\"Content-Type\": \"application/x-www-form-urlencoded\"}\n",
    "    data = {\"grant_type\": \"client_credentials\", \"client_id\": client_id, \"client_secret\": client_secret}\n",
    "    \n",
    "    response = requests.post(url, headers=headers, data=data)\n",
    "    \n",
    "    if response.status_code == 200:\n",
    "        return response.json().get(\"access_token\")\n",
    "    else:\n",
    "        print(\"Error getting access token:\", response.json())\n",
    "        return None\n",
    "\n",
    "def get_track_details(track_id, token):\n",
    "    url = f\"https://api.spotify.com/v1/tracks/{track_id}\"\n",
    "    headers = {\"Authorization\": f\"Bearer {token}\"}\n",
    "    response = requests.get(url, headers=headers)\n",
    "    \n",
    "    if response.status_code == 200:\n",
    "        track_data = response.json()\n",
    "        image_url = track_data.get('album', {}).get('images', [{}])[0].get('url')\n",
    "        spotify_url = track_data.get('external_urls', {}).get('spotify', None)\n",
    "        return image_url, spotify_url\n",
    "    else:\n",
    "        return None, None"
   ]
  }
 ],
 "metadata": {
  "kernelspec": {
   "display_name": "Python 3 (ipykernel)",
   "language": "python",
   "name": "python3"
  },
  "language_info": {
   "codemirror_mode": {
    "name": "ipython",
    "version": 3
   },
   "file_extension": ".py",
   "mimetype": "text/x-python",
   "name": "python",
   "nbconvert_exporter": "python",
   "pygments_lexer": "ipython3",
   "version": "3.12.4"
  }
 },
 "nbformat": 4,
 "nbformat_minor": 5
}
